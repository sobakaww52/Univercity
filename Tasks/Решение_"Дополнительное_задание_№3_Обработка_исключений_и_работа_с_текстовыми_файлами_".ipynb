{
  "cells": [
    {
      "cell_type": "markdown",
      "metadata": {
        "id": "view-in-github",
        "colab_type": "text"
      },
      "source": [
        "<a href=\"https://colab.research.google.com/github/sobakaww52/Univercity/blob/main/Tasks/%D0%A0%D0%B5%D1%88%D0%B5%D0%BD%D0%B8%D0%B5_%22%D0%94%D0%BE%D0%BF%D0%BE%D0%BB%D0%BD%D0%B8%D1%82%D0%B5%D0%BB%D1%8C%D0%BD%D0%BE%D0%B5_%D0%B7%D0%B0%D0%B4%D0%B0%D0%BD%D0%B8%D0%B5_%E2%84%963_%D0%9E%D0%B1%D1%80%D0%B0%D0%B1%D0%BE%D1%82%D0%BA%D0%B0_%D0%B8%D1%81%D0%BA%D0%BB%D1%8E%D1%87%D0%B5%D0%BD%D0%B8%D0%B9_%D0%B8_%D1%80%D0%B0%D0%B1%D0%BE%D1%82%D0%B0_%D1%81_%D1%82%D0%B5%D0%BA%D1%81%D1%82%D0%BE%D0%B2%D1%8B%D0%BC%D0%B8_%D1%84%D0%B0%D0%B9%D0%BB%D0%B0%D0%BC%D0%B8_%22.ipynb\" target=\"_parent\"><img src=\"https://colab.research.google.com/assets/colab-badge.svg\" alt=\"Open In Colab\"/></a>"
      ]
    },
    {
      "cell_type": "markdown",
      "id": "bb332bf9",
      "metadata": {
        "id": "bb332bf9"
      },
      "source": [
        "# **Дополнительное задание №3. Обработка исключений и работа с текстовыми файлами**"
      ]
    },
    {
      "cell_type": "markdown",
      "id": "aa6808db",
      "metadata": {
        "id": "aa6808db"
      },
      "source": [
        "**БАЗА:**\n",
        "\n",
        "- **Обработка исключений** позволяет перехватывать и обрабатывать ошибки, возникающие при выполнении программы, предотвращая её аварийное завершение.\n",
        "- **Работа с файлами** - важный навык для чтения, записи и обработки текстовой информации в Python.\n",
        "\n",
        "---"
      ]
    },
    {
      "cell_type": "markdown",
      "id": "2478deca",
      "metadata": {
        "id": "2478deca"
      },
      "source": [
        "## **I. Обработка исключений**"
      ]
    },
    {
      "cell_type": "markdown",
      "id": "0ab0b851",
      "metadata": {
        "id": "0ab0b851"
      },
      "source": [
        "### **Пункт №1. Обработка некорректного индекса (IndexError)**"
      ]
    },
    {
      "cell_type": "markdown",
      "id": "46e69e1f",
      "metadata": {
        "id": "46e69e1f"
      },
      "source": [
        "Создайте список из нескольких элементов (например, [10, 20, 30]). Попросите пользователя ввести индекс элемента, который нужно вывести. Если пользователь введёт индекс, выходящий за границы списка, перехватите IndexError и сообщите об этом.\n",
        "\n",
        "**ОБЯЗАТЕЛЬНО:**\n",
        "- Создайте список из минимум 5 элементов\n",
        "- Покажите содержимое списка перед работой\n",
        "- Протестируйте минимум 4 случая (корректный индекс, отрицательный, слишком большой, нечисловое значение)"
      ]
    },
    {
      "cell_type": "code",
      "execution_count": 17,
      "id": "724c5954",
      "metadata": {
        "id": "724c5954",
        "colab": {
          "base_uri": "https://localhost:8080/"
        },
        "outputId": "8d6793b5-05bf-4b4e-af60-e637f988b661"
      },
      "outputs": [
        {
          "output_type": "stream",
          "name": "stdout",
          "text": [
            "Список для проверки [10, 20, 30, 123, 132]\n",
            "3\n",
            "Ваш элемент с индексом 3 - 123\n",
            "-3\n",
            "Ваш элемент с индексом -3 - 30\n",
            "234\n",
            "Элемента с индексом 234 не существует\n",
            "окмо\n",
            "ОШИБКА! Введите число!\n"
          ]
        }
      ],
      "source": [
        "a = [10, 20, 30, 123, 132]\n",
        "print(f\"Список для проверки {a}\")\n",
        "for _ in range(4):\n",
        "  try:\n",
        "    index = int(input())\n",
        "    print(f\"Ваш элемент с индексом {index} - {a[index]}\")\n",
        "  except IndexError:\n",
        "    print(f\"Элемента с индексом {index} не существует\")\n",
        "  except ValueError:\n",
        "    print(\"ОШИБКА! Введите число!\")"
      ]
    },
    {
      "cell_type": "markdown",
      "id": "7ac84eec",
      "metadata": {
        "id": "7ac84eec"
      },
      "source": [
        "---"
      ]
    },
    {
      "cell_type": "markdown",
      "id": "f8bfb6e1",
      "metadata": {
        "id": "f8bfb6e1"
      },
      "source": [
        "### **Пункт №2. Обработка исключений в цикле**"
      ]
    },
    {
      "cell_type": "markdown",
      "id": "63c3b706",
      "metadata": {
        "id": "63c3b706"
      },
      "source": [
        "Напишите программу, которая запрашивает у пользователя числа и добавляет их в список.\n",
        "- Если пользователь вводит некорректные данные, программа должна выводить сообщение об ошибке и продолжать работу.\n",
        "- Для выхода из программы пользователь должен ввести \"стоп\".\n",
        "\n",
        "**ОБЯЗАТЕЛЬНО:**\n",
        "- Покажите процесс ввода минимум 7 значений (включая ошибочные)\n",
        "- Выведите финальный список и статистику (сколько чисел введено успешно, сколько ошибок)"
      ]
    },
    {
      "cell_type": "markdown",
      "source": [
        "\n",
        "\n",
        "```\n",
        "# Пример:\n",
        "# Введите число: 10\n",
        "# Введите число: текст (Ошибка: это не число)\n",
        "# Введите число: стоп\n",
        "# Итоговый список: [10]\n",
        "```\n",
        "\n"
      ],
      "metadata": {
        "id": "aiWaEPOuoHDS"
      },
      "id": "aiWaEPOuoHDS"
    },
    {
      "cell_type": "code",
      "execution_count": 27,
      "id": "31448e09",
      "metadata": {
        "id": "31448e09",
        "colab": {
          "base_uri": "https://localhost:8080/"
        },
        "outputId": "54a41c04-0f01-4c9d-c86e-501f68c74c1e"
      },
      "outputs": [
        {
          "output_type": "stream",
          "name": "stdout",
          "text": [
            "Введите число: 9324\n",
            "Введите число: 23\n",
            "Введите число: 23123\n",
            "Введите число: sd\n",
            "Ошибка: введите число или 'стоп'\n",
            "Введите число: we\n",
            "Ошибка: введите число или 'стоп'\n",
            "Введите число: cds\n",
            "Ошибка: введите число или 'стоп'\n",
            "Введите число: 3213\n",
            "Введите число: d\n",
            "Ошибка: введите число или 'стоп'\n",
            "Введите число: 1\n",
            "Введите число: стоп\n",
            "\n",
            "Итоговый список: [9324, 23, 23123, 3213, 1]\n",
            "Количество неверных вводов: 4\n",
            "Количество верных вводов: 5\n"
          ]
        }
      ],
      "source": [
        "a = []\n",
        "errors = 0\n",
        "success = 0\n",
        "\n",
        "while True:\n",
        "  user_input = input(\"Введите число: \").strip()\n",
        "\n",
        "  if user_input.lower() == 'стоп':\n",
        "    break\n",
        "\n",
        "  try:\n",
        "    a.append(int(user_input))\n",
        "    success += 1\n",
        "  except ValueError:\n",
        "    print(\"Ошибка: введите число или 'стоп'\")\n",
        "    1errors += 1\n",
        "\n",
        "print(f\"\\nИтоговый список: {a}\")\n",
        "\n",
        "print(f\"Количество неверных вводов: {errors}\")\n",
        "print(f\"Количество верных вводов: {success}\")\n"
      ]
    },
    {
      "cell_type": "markdown",
      "metadata": {
        "id": "Yv-FNYTEp0vV"
      },
      "source": [
        "---"
      ],
      "id": "Yv-FNYTEp0vV"
    },
    {
      "cell_type": "markdown",
      "id": "5971f85d",
      "metadata": {
        "id": "5971f85d"
      },
      "source": [
        "### **Пункт №3**"
      ]
    },
    {
      "cell_type": "markdown",
      "id": "b1457074",
      "metadata": {
        "id": "b1457074"
      },
      "source": [
        "Создайте функцию `get_list_element(lst, index)`, которая безопасно извлекает элемент списка по индексу с использованием блоков `try`, `except`, `else` и `finally`.\n",
        "\n",
        "Функция должна:\n",
        "- Обрабатывать выход за пределы списка\n",
        "- Обрабатывать некорректный тип индекса\n",
        "- Выводить сообщение о попытке доступа в блоке `finally`\n",
        "\n",
        "**ОБЯЗАТЕЛЬНО:**\n",
        "- Выведите результаты для минимум 4 различных случаев (успешный доступ, выход за границы, отрицательный индекс, нечисловой индекс)\n",
        "- Покажите, что блок `finally` выполняется всегда\n",
        "\n",
        "```python\n",
        "# Пример использования:\n",
        "my_list = [1, 2, 3, 4, 5]\n",
        "get_list_element(my_list, 2)   # Вывод: \"Элемент: 3\", \"Попытка доступа завершена\"\n",
        "get_list_element(my_list, 10)  # Вывод: \"Индекс вне диапазона\", \"Попытка доступа завершена\"\n",
        "```"
      ]
    },
    {
      "cell_type": "code",
      "execution_count": 28,
      "id": "1c067cf3",
      "metadata": {
        "id": "1c067cf3",
        "colab": {
          "base_uri": "https://localhost:8080/"
        },
        "outputId": "11a1583f-6414-45fe-821c-59eb03c305a0"
      },
      "outputs": [
        {
          "output_type": "stream",
          "name": "stdout",
          "text": [
            "1 123 23 2 2 \n",
            "Элемент по индексу 2: 23\n",
            "Попытка доступа к элементу завершена\n",
            "\n",
            "Элемент по индексу -1: 2\n",
            "Попытка доступа к элементу завершена\n",
            "\n",
            "Ошибка: индекс 12 выходит за пределы списка\n",
            "Попытка доступа к элементу завершена\n",
            "\n",
            "Ошибка: индекс '2.2' имеет некорректный тип\n",
            "Попытка доступа к элементу завершена\n",
            "\n"
          ]
        }
      ],
      "source": [
        "def get_list_element(lst, index):\n",
        "  try:\n",
        "    element = lst[index]\n",
        "  except IndexError:\n",
        "    print(f\"Ошибка: индекс {index} выходит за пределы списка\")\n",
        "    return None\n",
        "  except TypeError:\n",
        "    print(f\"Ошибка: индекс '{index}' имеет некорректный тип\")\n",
        "    return None\n",
        "  else:\n",
        "    print(f\"Элемент по индексу {index}: {element}\")\n",
        "    return element\n",
        "  finally:\n",
        "        print(\"Попытка доступа к элементу завершена\\n\")\n",
        "my_list = [int(s) for s in input().split()]\n",
        "get_list_element(my_list, 2)\n",
        "get_list_element(my_list, -1)\n",
        "get_list_element(my_list, 12)\n",
        "get_list_element(my_list, 2.2)\n",
        "\n"
      ]
    },
    {
      "cell_type": "markdown",
      "id": "b5bb39c7",
      "metadata": {
        "id": "b5bb39c7"
      },
      "source": [
        "---"
      ]
    },
    {
      "cell_type": "markdown",
      "id": "b0972d59",
      "metadata": {
        "id": "b0972d59"
      },
      "source": [
        "## **II. Работа с текстовыми файлами**"
      ]
    },
    {
      "cell_type": "markdown",
      "id": "35729435",
      "metadata": {
        "id": "35729435"
      },
      "source": [
        "### **Пункт №1. Запись в файл**"
      ]
    },
    {
      "cell_type": "markdown",
      "id": "3121365f",
      "metadata": {
        "id": "3121365f"
      },
      "source": [
        "Напишите программу, которая запрашивает у пользователя строку и записывает её в файл output.txt в режиме дозаписи.\n",
        "\n",
        "**ОБЯЗАТЕЛЬНО:**\n",
        "- Запросите у пользователя минимум 3 строки\n",
        "- Покажите содержимое файла после записи"
      ]
    },
    {
      "cell_type": "code",
      "execution_count": 15,
      "id": "cbce6c5f",
      "metadata": {
        "id": "cbce6c5f",
        "colab": {
          "base_uri": "https://localhost:8080/"
        },
        "outputId": "f9b7f839-c765-429a-f7f9-349e4f1390ac"
      },
      "outputs": [
        {
          "output_type": "stream",
          "name": "stdout",
          "text": [
            "Строка 1: Всем привет\n",
            "Строка 2: Хеллоу ворд\n",
            "Строка 3: Салем всем\n",
            "Строка 4: Ку\n",
            "Строка 5: САЛАТ МОЛЕКУЛ\n",
            "Строка 6: завтра история...\n",
            "\n",
            "Содержимое файла:\n",
            "Всем привет\n",
            "Хеллоу ворд\n",
            "Салем всем\n",
            "Ку\n",
            "САЛАТ МОЛЕКУЛ\n",
            "завтра история...\n",
            "\n"
          ]
        }
      ],
      "source": [
        "with open('output.txt', 'w') as f:\n",
        "    for i in range(6):\n",
        "        f.write(input(f\"Строка {i+1}: \") + '\\n')\n",
        "print(\"\\nСодержимое файла:\")\n",
        "with open('output.txt', 'r') as f:\n",
        "    print(f.read())"
      ]
    },
    {
      "cell_type": "markdown",
      "id": "361b3d2b",
      "metadata": {
        "id": "361b3d2b"
      },
      "source": [
        "---"
      ]
    },
    {
      "cell_type": "markdown",
      "id": "cce864b4",
      "metadata": {
        "id": "cce864b4"
      },
      "source": [
        "### **Пункт №2. Чтение из файла**"
      ]
    },
    {
      "cell_type": "markdown",
      "id": "4fc83b82",
      "metadata": {
        "id": "4fc83b82"
      },
      "source": [
        "Напишите программу, которая открывает файл output.txt и выводит его содержимое на экран.\n",
        "\n",
        "**ОБЯЗАТЕЛЬНО:**\n",
        "- Создайте файл с минимум 5 строками текста\n",
        "- Покажите содержимое файла целиком\n",
        "- Обработайте случай отсутствующего файла"
      ]
    },
    {
      "cell_type": "code",
      "execution_count": 16,
      "id": "df27a986",
      "metadata": {
        "id": "df27a986",
        "colab": {
          "base_uri": "https://localhost:8080/"
        },
        "outputId": "c3ac929c-0754-4da0-f0f7-5654938d421b"
      },
      "outputs": [
        {
          "output_type": "stream",
          "name": "stdout",
          "text": [
            "Всем привет\n",
            "Хеллоу ворд\n",
            "Салем всем\n",
            "Ку\n",
            "САЛАТ МОЛЕКУЛ\n",
            "завтра история...\n",
            "\n"
          ]
        }
      ],
      "source": [
        "try:\n",
        "    with open('output.txt', 'r') as f:\n",
        "        print(f.read())\n",
        "except FileNotFoundError:\n",
        "    print(\"Файл не найден\")"
      ]
    },
    {
      "cell_type": "markdown",
      "id": "2be296a2",
      "metadata": {
        "id": "2be296a2"
      },
      "source": [
        "---"
      ]
    },
    {
      "cell_type": "markdown",
      "id": "045696ba",
      "metadata": {
        "id": "045696ba"
      },
      "source": [
        "### **Пункт №3. Подсчет строк в файле**"
      ]
    },
    {
      "cell_type": "markdown",
      "id": "570ac3e9",
      "metadata": {
        "id": "570ac3e9"
      },
      "source": [
        "Напишите программу, которая открывает файл output.txt и подсчитывает количество строк в нём.\n",
        "\n",
        "**ОБЯЗАТЕЛЬНО:**\n",
        "- Создайте тестовый файл с известным количеством строк (минимум 10)\n",
        "- Покажите первые 3 строки файла\n",
        "- Выведите общее количество строк\n",
        "- Выведите количество непустых строк"
      ]
    },
    {
      "cell_type": "code",
      "execution_count": 18,
      "id": "84aa205a",
      "metadata": {
        "id": "84aa205a",
        "colab": {
          "base_uri": "https://localhost:8080/"
        },
        "outputId": "d49331b5-ec27-4f26-f6a7-8e1179dd373b"
      },
      "outputs": [
        {
          "output_type": "stream",
          "name": "stdout",
          "text": [
            "Первые 3 строки:\n",
            "Строка 1\n",
            "Строка 2\n",
            "\n",
            "Всего строк: 11\n",
            "Непустых: 8\n"
          ]
        }
      ],
      "source": [
        "with open('output.txt', 'w') as f:\n",
        "    f.write('\\n'.join([f\"Строка {i}\" if i % 3 != 0 else \"\" for i in range(1, 13)]))\n",
        "\n",
        "try:\n",
        "    with open('output.txt', 'r') as f:\n",
        "        lines = f.readlines()\n",
        "    print(\"Первые 3 строки:\", *[lines[i].strip() for i in range(3)], sep='\\n')\n",
        "    print(f\"Всего строк: {len(lines)}\")\n",
        "    print(f\"Непустых: {len([l for l in lines if l.strip()])}\")\n",
        "except FileNotFoundError:\n",
        "    print(\"Файл не найден\")"
      ]
    },
    {
      "cell_type": "markdown",
      "id": "94c6dcb0",
      "metadata": {
        "id": "94c6dcb0"
      },
      "source": [
        "---"
      ]
    },
    {
      "cell_type": "markdown",
      "id": "56f2a74e",
      "metadata": {
        "id": "56f2a74e"
      },
      "source": [
        "### **Пункт №4. Копирование содержимого файла**"
      ]
    },
    {
      "cell_type": "markdown",
      "id": "ed736046",
      "metadata": {
        "id": "ed736046"
      },
      "source": [
        "Напишите программу, которая копирует содержимое файла input.txt в файл output.txt.\n",
        "\n",
        "**ОБЯЗАТЕЛЬНО:**\n",
        "- Создайте исходный файл с тестовым содержимым (минимум 5 строк)\n",
        "- Покажите содержимое исходного файла\n",
        "- Выполните копирование\n",
        "- Покажите содержимое скопированного файла\n",
        "- Обработайте случай отсутствия исходного файла"
      ]
    },
    {
      "cell_type": "code",
      "execution_count": 19,
      "id": "31bd8a06",
      "metadata": {
        "id": "31bd8a06",
        "colab": {
          "base_uri": "https://localhost:8080/"
        },
        "outputId": "d2d25e7f-af71-41cd-a839-05a4ea41d7ac"
      },
      "outputs": [
        {
          "output_type": "stream",
          "name": "stdout",
          "text": [
            "Файл скопирован\n",
            "Содержимое output.txt:\n",
            "Строка 1\n",
            "Строка 2\n",
            "Строка 3\n",
            "Строка 4\n",
            "Строка 5\n"
          ]
        }
      ],
      "source": [
        "with open('input.txt', 'w') as f:\n",
        "    f.write('\\n'.join([f\"Строка {i}\" for i in range(1, 6)]))\n",
        "try:\n",
        "    with open('input.txt', 'r') as src, open('output.txt', 'w') as dst:\n",
        "        dst.write(src.read())\n",
        "    print(\"Файл скопирован\")\n",
        "\n",
        "    with open('output.txt', 'r') as f:\n",
        "        print(\"Содержимое output.txt:\\n\" + f.read())\n",
        "\n",
        "except FileNotFoundError:\n",
        "    print(\"Файл input.txt не найден\")"
      ]
    },
    {
      "cell_type": "markdown",
      "id": "2f7c8ee5",
      "metadata": {
        "id": "2f7c8ee5"
      },
      "source": [
        "---"
      ]
    },
    {
      "cell_type": "markdown",
      "id": "70ee398b",
      "metadata": {
        "id": "70ee398b"
      },
      "source": [
        "### **Пункт №5. Поиск слова в файле**"
      ]
    },
    {
      "cell_type": "markdown",
      "id": "c67f8987",
      "metadata": {
        "id": "c67f8987"
      },
      "source": [
        "Напишите программу, которая открывает файл output.txt и проверяет, содержится ли в нём слово, введённое пользователем.\n",
        "\n",
        "**ОБЯЗАТЕЛЬНО:**\n",
        "- Создайте файл с минимум 10 строками текста\n",
        "- Покажите содержимое файла\n",
        "- Протестируйте поиск минимум 5 различных слов\n",
        "- Выведите номера строк, где найдено слово\n",
        "- Покажите количество вхождений слова"
      ]
    },
    {
      "cell_type": "code",
      "execution_count": 1,
      "id": "d961bbf3",
      "metadata": {
        "id": "d961bbf3",
        "colab": {
          "base_uri": "https://localhost:8080/"
        },
        "outputId": "eda498ca-db32-4af2-b458-7907b188d52e"
      },
      "outputs": [
        {
          "output_type": "stream",
          "name": "stdout",
          "text": [
            "Строка крутая 1\n",
            "Строка 2\n",
            "Строка маленькая 3\n",
            "Строка 4\n",
            "Строка легкая 5\n",
            "Строка 6\n",
            "Строка простая 7\n",
            "Строка 8\n",
            "Строка 9\n",
            "Строка 10\n",
            "\n",
            "'1':\n",
            "  Найдено в строках: [1, 10]\n",
            "  Количество вхождений: 2\n",
            "'2':\n",
            "  Найдено в строках: [2]\n",
            "  Количество вхождений: 1\n",
            "'3':\n",
            "  Найдено в строках: [3]\n",
            "  Количество вхождений: 1\n",
            "'4':\n",
            "  Найдено в строках: [4]\n",
            "  Количество вхождений: 1\n",
            "'5':\n",
            "  Найдено в строках: [5]\n",
            "  Количество вхождений: 1\n",
            "\n",
            "Введите слово: строка\n",
            "\n",
            "Результат 'строка':\n",
            "Строки: [1, 2, 3, 4, 5, 6, 7, 8, 9, 10]\n",
            "Всего вхождений: 10\n"
          ]
        }
      ],
      "source": [
        "with open('output.txt', 'w', encoding='utf-8') as f:\n",
        "    lines = [\n",
        "        \"Строка крутая 1\",\n",
        "        \"Строка 2\",\n",
        "        \"Строка маленькая 3\",\n",
        "        \"Строка 4\",\n",
        "        \"Строка легкая 5\",\n",
        "        \"Строка 6\",\n",
        "        \"Строка простая 7\",\n",
        "        \"Строка 8\",\n",
        "        \"Строка 9\",\n",
        "        \"Строка 10\",\n",
        "    ]\n",
        "    for line in lines:\n",
        "        f.write(line + '\\n')\n",
        "\n",
        "with open('output.txt', 'r', encoding='utf-8') as f:\n",
        "    strings = f.read()\n",
        "    print(strings)\n",
        "\n",
        "words = [\"1\", \"2\", \"3\", \"4\", \"5\"]\n",
        "\n",
        "for word in words:\n",
        "    print(f\"'{word}':\")\n",
        "\n",
        "    with open('output.txt', 'r', encoding='utf-8') as f:\n",
        "        lines = f.readlines()\n",
        "\n",
        "    found_lines = []\n",
        "    count = 0\n",
        "\n",
        "    for i, line in enumerate(lines, 1):\n",
        "        if word.lower() in line.lower():\n",
        "            found_lines.append(i)\n",
        "            count += line.lower().count(word.lower())\n",
        "\n",
        "    if found_lines:\n",
        "        print(f\"  Найдено в строках: {found_lines}\")\n",
        "        print(f\"  Количество вхождений: {count}\")\n",
        "    else:\n",
        "        print(\" Не найдено\")\n",
        "\n",
        "user_word = input(\"\\nВведите слово: \")\n",
        "found_lines = []\n",
        "count = 0\n",
        "\n",
        "with open('output.txt', 'r', encoding='utf-8') as f:\n",
        "    lines = f.readlines()\n",
        "\n",
        "for i, line in enumerate(lines, 1):\n",
        "    if user_word.lower() in line.lower():\n",
        "        found_lines.append(i)\n",
        "        count += line.lower().count(user_word.lower())\n",
        "\n",
        "print(f\"\\nРезультат '{user_word}':\")\n",
        "if found_lines:\n",
        "    print(f\"Строки: {found_lines}\")\n",
        "    print(f\"Всего вхождений: {count}\")\n",
        "else:\n",
        "    print(\"Слово не найдено\")"
      ]
    },
    {
      "cell_type": "markdown",
      "id": "8d69c77a",
      "metadata": {
        "id": "8d69c77a"
      },
      "source": [
        "---"
      ]
    },
    {
      "cell_type": "markdown",
      "id": "0079e067",
      "metadata": {
        "id": "0079e067"
      },
      "source": [
        "### **Пункт №6. Чтение файла с обработкой FileNotFoundError**"
      ]
    },
    {
      "cell_type": "markdown",
      "id": "c3d27312",
      "metadata": {
        "id": "c3d27312"
      },
      "source": [
        "Напишите программу, которая запрашивает у пользователя имя файла и пытается открыть его. Если файла не существует, перехватите FileNotFoundError и выведите сообщение «Файл не найден!».\n",
        "\n",
        "**ОБЯЗАТЕЛЬНО:**\n",
        "- Протестируйте с существующим файлом\n",
        "- Протестируйте с несуществующим файлом\n",
        "- Покажите содержимое существующего файла"
      ]
    },
    {
      "cell_type": "code",
      "execution_count": 2,
      "id": "0c262bd2",
      "metadata": {
        "id": "0c262bd2",
        "colab": {
          "base_uri": "https://localhost:8080/"
        },
        "outputId": "d3ef6644-562f-4872-ada8-17dba12faa79"
      },
      "outputs": [
        {
          "output_type": "stream",
          "name": "stdout",
          "text": [
            "Строка 1\n",
            "Строка 2\n",
            "Строка 3\n",
            "\n",
            "Файл не найден!\n",
            "Введите имя файла: Строка\n",
            "Файл не найден!\n"
          ]
        }
      ],
      "source": [
        "with open('output.txt', 'w', encoding='utf-8') as f:\n",
        "    f.write(\"Строка 1\\n\")\n",
        "    f.write(\"Строка 2\\n\")\n",
        "    f.write(\"Строка 3\\n\")\n",
        "\n",
        "try:\n",
        "    with open('output.txt', 'r', encoding='utf-8') as file:\n",
        "        strings = file.read()\n",
        "    print(strings)\n",
        "except FileNotFoundError:\n",
        "    print(\"Файл не найден!\")\n",
        "\n",
        "try:\n",
        "    with open('no_file.txt', 'r', encoding='utf-8') as file:\n",
        "        strings = file.read()\n",
        "    print(strings)\n",
        "except FileNotFoundError:\n",
        "    print(\"Файл не найден!\")\n",
        "\n",
        "filename = input(\"Введите имя файла: \")\n",
        "\n",
        "try:\n",
        "    with open(filename, 'r', encoding='utf-8') as file:\n",
        "        strings = file.read()\n",
        "    print(strings)\n",
        "except FileNotFoundError:\n",
        "    print(\"Файл не найден!\")"
      ]
    },
    {
      "cell_type": "markdown",
      "id": "c3258b46",
      "metadata": {
        "id": "c3258b46"
      },
      "source": [
        "---"
      ]
    },
    {
      "cell_type": "markdown",
      "id": "02e0767b",
      "metadata": {
        "id": "02e0767b"
      },
      "source": [
        "### **Пункт №7. Подсчет статистики файла**"
      ]
    },
    {
      "cell_type": "markdown",
      "id": "1c33b711",
      "metadata": {
        "id": "1c33b711"
      },
      "source": [
        "Напишите функцию `file_statistics(filename)`, которая читает текстовый файл и возвращает словарь со статистикой:\n",
        "- Количество строк\n",
        "- Количество слов\n",
        "- Количество символов (с пробелами и без)\n",
        "\n",
        "**ОБЯЗАТЕЛЬНО:**\n",
        "- Создайте тестовый файл с минимум 5 строками текста\n",
        "- Выведите содержимое файла ДО обработки\n",
        "- Выведите полученную статистику\n",
        "- Обработайте случай несуществующего файла\n",
        "\n",
        "```python\n",
        "# Создание тестового файла\n",
        "test_content = \"\"\"Первая строка текста\n",
        "Вторая строка с большим количеством слов\n",
        "Третья строка\n",
        "Четвертая строка для теста\n",
        "Пятая и последняя строка\"\"\"\n",
        "\n",
        "# Сохраните в файл и продемонстрируйте работу\n",
        "```"
      ]
    },
    {
      "cell_type": "code",
      "execution_count": 3,
      "id": "43bfd6b8",
      "metadata": {
        "id": "43bfd6b8",
        "colab": {
          "base_uri": "https://localhost:8080/"
        },
        "outputId": "c9a668f9-7aff-4350-8603-e9149b46181c"
      },
      "outputs": [
        {
          "output_type": "stream",
          "name": "stdout",
          "text": [
            "Первая строка текста\n",
            "Вторая строка с большим количеством слов\n",
            "Третья строка\n",
            "Четвертая строка для теста\n",
            "Пятая и последняя строка\n",
            "количество строк: 5\n",
            "количество слов: 19\n",
            "количество символов c пробелами: 127\n",
            "количество символов без пробелов: 113\n"
          ]
        }
      ],
      "source": [
        "def file_statistics(filename):\n",
        "    try:\n",
        "        with open(filename, 'r', encoding='utf-8') as file:\n",
        "            strings = file.read()\n",
        "\n",
        "        lines = strings.splitlines()\n",
        "        words = strings.split()\n",
        "\n",
        "        stats = {\n",
        "            'количество строк': len(lines),\n",
        "            'количество слов': len(words),\n",
        "            'количество символов c пробелами': len(strings),\n",
        "            'количество символов без пробелов': len(strings.replace(' ', ''))\n",
        "        }\n",
        "\n",
        "        return stats\n",
        "\n",
        "    except FileNotFoundError:\n",
        "        print(f\"Файл '{filename}' не найден!\")\n",
        "        return None\n",
        "\n",
        "test_content = \"\"\"Первая строка текста\n",
        "Вторая строка с большим количеством слов\n",
        "Третья строка\n",
        "Четвертая строка для теста\n",
        "Пятая и последняя строка\"\"\"\n",
        "\n",
        "with open('test_file.txt', 'w', encoding='utf-8') as f:\n",
        "    f.write(test_content)\n",
        "\n",
        "with open('test_file.txt', 'r', encoding='utf-8') as f:\n",
        "    print(f.read())\n",
        "\n",
        "stats = file_statistics('test_file.txt')\n",
        "if stats:\n",
        "    for key, value in stats.items():\n",
        "        print(f\"{key}: {value}\")"
      ]
    },
    {
      "cell_type": "markdown",
      "id": "903281dd",
      "metadata": {
        "id": "903281dd"
      },
      "source": [
        "---"
      ]
    },
    {
      "cell_type": "markdown",
      "id": "ad8b4ae4",
      "metadata": {
        "id": "ad8b4ae4"
      },
      "source": [
        "### **Пункт №8. Поиск и замена в файле**"
      ]
    },
    {
      "cell_type": "markdown",
      "id": "e5230d0a",
      "metadata": {
        "id": "e5230d0a"
      },
      "source": [
        "Напишите функцию `replace_in_file(filename, old_text, new_text)`, которая заменяет все вхождения `old_text` на `new_text` в файле и сохраняет результат в новый файл с префиксом \"modified_\".\n",
        "\n",
        "**ОБЯЗАТЕЛЬНО:**\n",
        "- Создайте файл с текстом, содержащим минимум 3 вхождения заменяемого слова\n",
        "- Выведите содержимое файла ДО замены\n",
        "- Выполните замену\n",
        "- Выведите содержимое файла ПОСЛЕ замены\n",
        "- Покажите количество произведенных замен"
      ]
    },
    {
      "cell_type": "code",
      "execution_count": 5,
      "id": "64a05e35",
      "metadata": {
        "id": "64a05e35",
        "colab": {
          "base_uri": "https://localhost:8080/"
        },
        "outputId": "3bebb4e1-806d-46b4-cdff-446a2eab1cfc"
      },
      "outputs": [
        {
          "output_type": "stream",
          "name": "stdout",
          "text": [
            "СОДЕРЖИМОЕ ФАЙЛА ДО ЗАМЕНЫ:\n",
            "Строка 1 ыыыы.\n",
            "Строка 2 гуд.\n",
            "Строка 3 аааа.\n",
            "Строка 4 азчтё тест.\n",
            "\n",
            "ЗАМЕНА: тест - проверка\n",
            "Количество замен: 1\n",
            "Файл: modified_example.txt\n",
            "Строка 1 ыыыы.\n",
            "Строка 2 гуд.\n",
            "Строка 3 аааа.\n",
            "Строка 4 азчтё проверка.\n"
          ]
        }
      ],
      "source": [
        "def replace_in_file(filename, old_text, new_text):\n",
        "    try:\n",
        "        with open(filename, 'r', encoding='utf-8') as file:\n",
        "            string = file.read()\n",
        "\n",
        "        count = string.count(old_text)\n",
        "        new_string = string.replace(old_text, new_text)\n",
        "\n",
        "        new_filename = f\"modified_{filename}\"\n",
        "\n",
        "        with open(new_filename, 'w', encoding='utf-8') as file:\n",
        "            file.write(new_string)\n",
        "\n",
        "        return count, new_filename\n",
        "\n",
        "    except FileNotFoundError:\n",
        "        print(f\"Файл {filename} не найден!\")\n",
        "        return 0, None\n",
        "\n",
        "test = \"\"\"Строка 1 ыыыы.\n",
        "Строка 2 гуд.\n",
        "Строка 3 аааа.\n",
        "Строка 4 азчтё тест.\"\"\"\n",
        "\n",
        "with open('example.txt', 'w', encoding='utf-8') as f:\n",
        "    f.write(test)\n",
        "\n",
        "print(\"СОДЕРЖИМОЕ ФАЙЛА ДО ЗАМЕНЫ:\")\n",
        "with open('example.txt', 'r', encoding='utf-8') as f:\n",
        "    print(f.read())\n",
        "\n",
        "old_word = \"тест\"\n",
        "new_word = \"проверка\"\n",
        "count, new_file = replace_in_file('example.txt', old_word, new_word)\n",
        "print(f\"\\nЗАМЕНА: {old_word} - {new_word}\")\n",
        "print(f\"Количество замен: {count}\")\n",
        "print(f\"Файл: {new_file}\")\n",
        "\n",
        "with open(new_file, 'r', encoding='utf-8') as f:\n",
        "    print(f.read())\n"
      ]
    },
    {
      "cell_type": "markdown",
      "id": "f77b0568",
      "metadata": {
        "id": "f77b0568"
      },
      "source": [
        "---"
      ]
    },
    {
      "cell_type": "markdown",
      "id": "79a081b1",
      "metadata": {
        "id": "79a081b1"
      },
      "source": [
        "### **Пункт №9. Объединение файлов**"
      ]
    },
    {
      "cell_type": "markdown",
      "id": "599cee3c",
      "metadata": {
        "id": "599cee3c"
      },
      "source": [
        "Создайте функцию `merge_files(file_list, output_file)`, которая объединяет содержимое нескольких текстовых файлов в один, добавляя после каждого разделитель.\n",
        "\n",
        "**ОБЯЗАТЕЛЬНО:**\n",
        "- Создайте минимум 3 файла с разным содержимым\n",
        "- Выведите содержимое КАЖДОГО исходного файла\n",
        "- Выполните объединение\n",
        "- Выведите содержимое результирующего файла"
      ]
    },
    {
      "cell_type": "code",
      "execution_count": 7,
      "id": "581b5868",
      "metadata": {
        "id": "581b5868",
        "colab": {
          "base_uri": "https://localhost:8080/"
        },
        "outputId": "f08006b1-f5d7-41ad-979f-1553f6a97330"
      },
      "outputs": [
        {
          "output_type": "stream",
          "name": "stdout",
          "text": [
            "\n",
            "source1.txt:\n",
            "Первый файл\n",
            "Строка 1\n",
            "Строка 2\n",
            "Строка 3\n",
            "\n",
            "source2.txt:\n",
            "Второй файл\n",
            "Строка 4\n",
            "Строка 5\n",
            "Строка 6\n",
            "\n",
            "source3.txt:\n",
            "Третий файл\n",
            "Строка 7\n",
            "Строка 8\n",
            "Строка 9\n",
            "Файлы объединены в 'result.txt'\n",
            "Первый файл\n",
            "Строка 1\n",
            "Строка 2\n",
            "Строка 3\n",
            "\n",
            "\n",
            "Второй файл\n",
            "Строка 4\n",
            "Строка 5\n",
            "Строка 6\n",
            "\n",
            "\n",
            "Третий файл\n",
            "Строка 7\n",
            "Строка 8\n",
            "Строка 9\n"
          ]
        }
      ],
      "source": [
        "def merge_files(file_list, output_file):\n",
        "    try:\n",
        "        with open(output_file, 'w', encoding='utf-8') as out_file:\n",
        "            for i, filename in enumerate(file_list):\n",
        "                with open(filename, 'r', encoding='utf-8') as in_file:\n",
        "                    out_file.write(in_file.read())\n",
        "\n",
        "                if i < len(file_list) - 1:\n",
        "                    out_file.write(\"\\n\" +\"\\n\\n\")\n",
        "        print(f\"Файлы объединены в '{output_file}'\")\n",
        "        return True\n",
        "    except Exception as e:\n",
        "        print(f\"Ошибка: {e}\")\n",
        "        return False\n",
        "file1_content = \"\"\"Первый файл\n",
        "Строка 1\n",
        "Строка 2\n",
        "Строка 3\"\"\"\n",
        "\n",
        "file2_content = \"\"\"Второй файл\n",
        "Строка 4\n",
        "Строка 5\n",
        "Строка 6\"\"\"\n",
        "\n",
        "file3_content = \"\"\"Третий файл\n",
        "Строка 7\n",
        "Строка 8\n",
        "Строка 9\"\"\"\n",
        "\n",
        "with open('source1.txt', 'w', encoding='utf-8') as f:\n",
        "    f.write(file1_content)\n",
        "\n",
        "with open('source2.txt', 'w', encoding='utf-8') as f:\n",
        "    f.write(file2_content)\n",
        "\n",
        "with open('source3.txt', 'w', encoding='utf-8') as f:\n",
        "    f.write(file3_content)\n",
        "\n",
        "files = ['source1.txt', 'source2.txt', 'source3.txt']\n",
        "\n",
        "for filename in files:\n",
        "    print(f\"\\n{filename}:\")\n",
        "    with open(filename, 'r', encoding='utf-8') as f:\n",
        "        print(f.read())\n",
        "\n",
        "merge_files(files, 'result.txt')\n",
        "\n",
        "with open('result.txt', 'r', encoding='utf-8') as f:\n",
        "    print(f.read())"
      ]
    },
    {
      "cell_type": "markdown",
      "id": "eb866091",
      "metadata": {
        "id": "eb866091"
      },
      "source": [
        "---"
      ]
    }
  ],
  "metadata": {
    "colab": {
      "provenance": [],
      "include_colab_link": true
    },
    "language_info": {
      "name": "python"
    },
    "kernelspec": {
      "name": "python3",
      "display_name": "Python 3"
    }
  },
  "nbformat": 4,
  "nbformat_minor": 5
}